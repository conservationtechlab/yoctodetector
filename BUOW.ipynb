{
 "cells": [
  {
   "cell_type": "code",
   "execution_count": 5,
   "id": "10c8bdcc",
   "metadata": {},
   "outputs": [],
   "source": [
    "import pandas as pd\n",
    "import numpy as np\n",
    "import matplotlib.pyplot as plt\n",
    "import matplotlib.patches as patches\n",
    "import matplotlib.image as mpimg\n",
    "from sklearn.model_selection import train_test_split\n",
    "from PIL import Image\n",
    "from tqdm import tqdm"
   ]
  },
  {
   "cell_type": "code",
   "execution_count": 2,
   "id": "1422304c",
   "metadata": {},
   "outputs": [],
   "source": [
    "## Unpack Zooniverse Data"
   ]
  },
  {
   "cell_type": "code",
   "execution_count": 27,
   "id": "9627fbc2",
   "metadata": {},
   "outputs": [],
   "source": [
    "df = pd.read_csv(\"/mnt/machinelearning/BUOW/owl-detector-dataset-2024-03-classifications.csv\")\n",
    "file = '/mnt/machinelearning/BUOW/owl_all.csv'"
   ]
  },
  {
   "cell_type": "code",
   "execution_count": 25,
   "id": "27af06df",
   "metadata": {},
   "outputs": [
    {
     "name": "stdout",
     "output_type": "stream",
     "text": [
      "here\n"
     ]
    },
    {
     "ename": "NotImplementedError",
     "evalue": "",
     "output_type": "error",
     "traceback": [
      "\u001b[0;31m---------------------------------------------------------------------------\u001b[0m",
      "\u001b[0;31mNotImplementedError\u001b[0m                       Traceback (most recent call last)",
      "\u001b[0;32m/tmp/ipykernel_55559/1161146656.py\u001b[0m in \u001b[0;36m<module>\u001b[0;34m\u001b[0m\n\u001b[1;32m     10\u001b[0m     \u001b[0;31m#try:\u001b[0m\u001b[0;34m\u001b[0m\u001b[0;34m\u001b[0m\u001b[0;34m\u001b[0m\u001b[0m\n\u001b[1;32m     11\u001b[0m     \u001b[0mprint\u001b[0m\u001b[0;34m(\u001b[0m\u001b[0;34m'here'\u001b[0m\u001b[0;34m)\u001b[0m\u001b[0;34m\u001b[0m\u001b[0;34m\u001b[0m\u001b[0m\n\u001b[0;32m---> 12\u001b[0;31m     \u001b[0md\u001b[0m \u001b[0;34m=\u001b[0m \u001b[0mjson_normalize\u001b[0m\u001b[0;34m(\u001b[0m\u001b[0mrow\u001b[0m\u001b[0;34m[\u001b[0m\u001b[0;34m'metadata'\u001b[0m\u001b[0;34m]\u001b[0m\u001b[0;34m)\u001b[0m\u001b[0;34m\u001b[0m\u001b[0;34m\u001b[0m\u001b[0m\n\u001b[0m\u001b[1;32m     13\u001b[0m     \u001b[0mprint\u001b[0m\u001b[0;34m(\u001b[0m\u001b[0md\u001b[0m\u001b[0;34m)\u001b[0m\u001b[0;34m\u001b[0m\u001b[0;34m\u001b[0m\u001b[0m\n\u001b[1;32m     14\u001b[0m     \u001b[0;32mbreak\u001b[0m\u001b[0;34m\u001b[0m\u001b[0;34m\u001b[0m\u001b[0m\n",
      "\u001b[0;32m~/anaconda3/envs/animl-gpu/lib/python3.7/site-packages/pandas/io/json/_normalize.py\u001b[0m in \u001b[0;36m_json_normalize\u001b[0;34m(data, record_path, meta, meta_prefix, record_prefix, errors, sep, max_level)\u001b[0m\n\u001b[1;32m    421\u001b[0m         \u001b[0mdata\u001b[0m \u001b[0;34m=\u001b[0m \u001b[0mlist\u001b[0m\u001b[0;34m(\u001b[0m\u001b[0mdata\u001b[0m\u001b[0;34m)\u001b[0m\u001b[0;34m\u001b[0m\u001b[0;34m\u001b[0m\u001b[0m\n\u001b[1;32m    422\u001b[0m     \u001b[0;32melse\u001b[0m\u001b[0;34m:\u001b[0m\u001b[0;34m\u001b[0m\u001b[0;34m\u001b[0m\u001b[0m\n\u001b[0;32m--> 423\u001b[0;31m         \u001b[0;32mraise\u001b[0m \u001b[0mNotImplementedError\u001b[0m\u001b[0;34m\u001b[0m\u001b[0;34m\u001b[0m\u001b[0m\n\u001b[0m\u001b[1;32m    424\u001b[0m \u001b[0;34m\u001b[0m\u001b[0m\n\u001b[1;32m    425\u001b[0m     \u001b[0;31m# check to see if a simple recursive function is possible to\u001b[0m\u001b[0;34m\u001b[0m\u001b[0;34m\u001b[0m\u001b[0;34m\u001b[0m\u001b[0m\n",
      "\u001b[0;31mNotImplementedError\u001b[0m: "
     ]
    }
   ],
   "source": [
    "idx = 0\n",
    "x = 0\n",
    "dic = {}\n",
    "s = set()\n",
    "df['subject_data'] = df['subject_data'].apply(lambda x:x.replace('null',\"None\"))\n",
    "df['subject_data'] = df['subject_data'].astype(str)\n",
    "df['annotations'] = df['annotations'].astype(str)\n",
    "\n",
    "for index, row in df.iterrows():\n",
    "    try:\n",
    "    \n",
    "        dic['classification_id'] = row['classification_id']\n",
    "        dic['user_name'] = row['user_name']\n",
    "        dic['user_id'] = row['user_id']\n",
    "        dic['user_ip'] = row['user_ip']\n",
    "        dic['workflow_id'] = row['workflow_id']\n",
    "        dic['workflow_name'] = row['workflow_name']\n",
    "        dic['workflow_version'] = row['workflow_version']\n",
    "        dic['created_at'] = row['created_at']\n",
    "        dic['gold_standard'] = row['gold_standard']\n",
    "        dic['expert'] = row['expert']\n",
    "\n",
    "\n",
    "        subject_data = eval(row['subject_data'])\n",
    "        for key in subject_data:\n",
    "            for key2 in subject_data[key]:\n",
    "                if key2 != 'retired':\n",
    "                    dic[key2] = subject_data[key][key2]\n",
    "                else:\n",
    "                    for key3 in subject_data[key][key2]:\n",
    "                        dic[key3] = subject_data[key][key2][key3]\n",
    "\n",
    "        annotations = eval(row['annotations'])    \n",
    "        dic['task'] = annotations[0]['task']\n",
    "        dic['task_label'] = annotations[0]['task_label']\n",
    "\n",
    "\n",
    "        for i in range(len(annotations[0]['value'])):\n",
    "            new_dic = dic\n",
    "            for key in annotations[0]['value'][i]:\n",
    "                new_dic[key] = annotations[0]['value'][i][key]\n",
    "\n",
    "            final_entry = pd.DataFrame([new_dic])\n",
    "            new_df = pd.concat([new_df, final_entry])\n",
    "\n",
    "            if idx % 10000 == 0:\n",
    "                file_exists = os.path.isfile(file)\n",
    "                new_df.to_csv(file, mode='a', header=not file_exists)\n",
    "                new_df = new_df[0:0]\n",
    "            idx += 1\n",
    "\n",
    "    except Exception as e:\n",
    "        s.add(e)\n",
    "        x += 1"
   ]
  },
  {
   "cell_type": "code",
   "execution_count": 1,
   "id": "9271fe78",
   "metadata": {},
   "outputs": [],
   "source": [
    "##Extract only the data we need"
   ]
  },
  {
   "cell_type": "code",
   "execution_count": null,
   "id": "ac3d53ce",
   "metadata": {},
   "outputs": [],
   "source": [
    "df3 = pd.read_csv('/mnt/machinelearning/BUOW/owl_all.csv')\n",
    "df2 = pd.read_csv('/mnt/machinelearning/BUOW/BUOW Mapping.csv')"
   ]
  },
  {
   "cell_type": "code",
   "execution_count": null,
   "id": "50e3d498",
   "metadata": {},
   "outputs": [],
   "source": [
    "dic = {}\n",
    "for index, row in df2.iterrows():\n",
    "    dic[row['Relative']] = row['Actual']"
   ]
  },
  {
   "cell_type": "code",
   "execution_count": null,
   "id": "d9a58e5e",
   "metadata": {},
   "outputs": [],
   "source": [
    "df = pd.DataFrame(columns=('Name', 'Path',\n",
    "                               'X', 'Y', 'Width',\n",
    "                               'height', 'Label'))\n",
    "i = 0\n",
    "for index, row in tqdm(df3.iterrows()):\n",
    "    data = {'Name': [row['#image' + str(int(row['frame']) + 1)]],\n",
    "           'Path': [dic[row['#current_dir']] + '/' + row['#image' + str(int(row['frame']) + 1)]], \n",
    "           'X': [row['x']], 'Y': [row['y']], 'Width': [row['width']], 'Height': [row['height']],\n",
    "           'Label': [row['tool_label']]}\n",
    "    \n",
    "    df = pd.concat([df, pd.DataFrame(data)]).reset_index(drop=True)\n",
    "    i += 1\n",
    "    if i % 10000 == 0:\n",
    "        df.to_csv('owl_compressed.csv', mode='a', header=False)\n",
    "        df = df[0:0]\n",
    "    "
   ]
  },
  {
   "cell_type": "code",
   "execution_count": null,
   "id": "ad16e9fd",
   "metadata": {},
   "outputs": [],
   "source": [
    "## Get final bounding boxes"
   ]
  },
  {
   "cell_type": "code",
   "execution_count": null,
   "id": "9d59db2c",
   "metadata": {},
   "outputs": [],
   "source": [
    "'''\n",
    "Funtion that return Intersection over Union for 2 bounding boxes\n",
    "\n",
    "'''\n",
    "def iou(box1, box2):\n",
    "    x1, y1, w1, h1, l1, a1 = box1\n",
    "    x2, y2, w2, h2, l2, a1 = box2\n",
    "   \n",
    "    xi1 = max(x1, x2)\n",
    "    yi1 = max(y1, y2)\n",
    "    xi2 = min(x1 + w1, x2 + w2)\n",
    "    yi2 = min(y1 + h1, y2 + h2)\n",
    "   \n",
    "    inter_width = max(0, xi2 - xi1)\n",
    "    inter_height = max(0, yi2 - yi1)\n",
    "    inter_area = inter_width * inter_height\n",
    "   \n",
    "    box1_area = w1 * h1\n",
    "    box2_area = w2 * h2\n",
    "    union_area = box1_area + box2_area - inter_area\n",
    "   \n",
    "    return inter_area / union_area"
   ]
  },
  {
   "cell_type": "code",
   "execution_count": null,
   "id": "cf5886c0",
   "metadata": {},
   "outputs": [],
   "source": [
    "'''\n",
    "Function that return all unique bounding boxes in an image\n",
    "'''\n",
    "def match_boxes(annotations):\n",
    "    matched_groups = []\n",
    "    annotations = sorted(annotations, key=lambda row: row[-1])\n",
    "    for i in annotations:\n",
    "        if len(matched_groups) == 0:\n",
    "            matched_groups.append(i)\n",
    "        else:\n",
    "            flag = True\n",
    "            for j in matched_groups:\n",
    "                if iou(i,j) != 0:\n",
    "                    flag = False\n",
    "                    break\n",
    "            if flag:\n",
    "                matched_groups.append(i)\n",
    "    return matched_groups"
   ]
  },
  {
   "cell_type": "code",
   "execution_count": null,
   "id": "d3649b76",
   "metadata": {},
   "outputs": [],
   "source": [
    "# Loading the csv containing annotations\n",
    "df = pd.read_csv('owl_compressed.csv')\n",
    "\n",
    "# (Optional) Only keeping the labels we need\n",
    "df = df[df['Label'].isin(['Adult Owl', 'Juvenile Owl'])]\n",
    "\n",
    "# Group all annotations by their image\n",
    "grouped = df.groupby('Path')"
   ]
  },
  {
   "cell_type": "code",
   "execution_count": null,
   "id": "f9810959",
   "metadata": {},
   "outputs": [],
   "source": [
    "d = pd.DataFrame(columns = ['Name', 'Path', 'X', 'Y', 'Width', 'Height', 'Label'])\n",
    "count = 0\n",
    "idx = 0\n",
    "for name, group in grouped:\n",
    "    try:\n",
    "        group['Area'] = group['Width'] * group['Height']\n",
    "        annotations = group[['X', 'Y', 'Width', 'Height', 'Label', 'Area']].values.tolist()\n",
    "        matched_groups = match_boxes(annotations)\n",
    "\n",
    "        if len(matched_groups) != 0:\n",
    "            for entry in matched_groups:\n",
    "                data = {'Name': [name.split('/')[-1]], 'Path': [name], 'X': [entry[0]], 'Y': [entry[1]], \n",
    "                        'Width': [entry[2]], 'Height': [entry[3]], 'Label': [entry[4]]}\n",
    "                d = pd.concat([d, pd.DataFrame(data)]).reset_index(drop=True)\n",
    "\n",
    "                count += 1\n",
    "                if count % 10000 == 0:\n",
    "                    print(count)\n",
    "                    d.to_csv('owl_boxed.csv', mode='a', header=False)\n",
    "                    d = d[0:0]\n",
    "    except:\n",
    "        idx += 1\n",
    "d.to_csv('owl_boxed.csv', mode='a', header=False)"
   ]
  },
  {
   "cell_type": "code",
   "execution_count": null,
   "id": "a91f5f70",
   "metadata": {},
   "outputs": [],
   "source": [
    "'''\n",
    "Plot a few random images to visualize accuracy of bounding boxes\n",
    "\n",
    "Note: This method assumes the coordinates are not normalized and represent x_min, y_min, width, height. If you\n",
    "      have coordinates in other system, please convert them before plotting\n",
    "'''\n",
    "\n",
    "num_of_images_to_plot = 50\n",
    "\n",
    "idx = 0\n",
    "for index, row in df_new.iterrows():\n",
    "    \n",
    "    # Load the image\n",
    "    img = mpimg.imread(row['Path'])\n",
    "\n",
    "    # Create a figure and axis\n",
    "    fig, ax = plt.subplots()\n",
    "\n",
    "    # Display the image\n",
    "    ax.imshow(img)\n",
    "\n",
    "    # Create a Rectangle patch\n",
    "    rect = patches.Rectangle((row['X'], row['Y']), row['Width'], row['Height'], linewidth=2, edgecolor='y', facecolor='none')\n",
    "\n",
    "    # Add the patch to the Axes\n",
    "    ax.add_patch(rect)\n",
    "\n",
    "    # Show the plot with the bounding box\n",
    "    plt.show()\n",
    "    \n",
    "    if idx == num_of_images_to_plot:\n",
    "        break\n",
    "    idx += 1"
   ]
  },
  {
   "cell_type": "code",
   "execution_count": null,
   "id": "7e55cf29",
   "metadata": {},
   "outputs": [],
   "source": [
    "## Get splits for train and Validate"
   ]
  },
  {
   "cell_type": "code",
   "execution_count": null,
   "id": "c446805a",
   "metadata": {},
   "outputs": [],
   "source": [
    "df = pd.read_csv('owl_boxed.csv')"
   ]
  },
  {
   "cell_type": "code",
   "execution_count": null,
   "id": "8a0c0b45",
   "metadata": {},
   "outputs": [],
   "source": [
    "df_adult = df[df['Label'] == 'Adult Owl']\n",
    "df_juv = df[df['Label'] == 'Juvenile Owl']"
   ]
  },
  {
   "cell_type": "code",
   "execution_count": null,
   "id": "e9de050c",
   "metadata": {},
   "outputs": [],
   "source": [
    "df_adult = df_adult['Path']\n",
    "df_adult.drop_duplicates()\n",
    "\n",
    "df_juv = df_juv['Path']\n",
    "df_juv.drop_duplicates()"
   ]
  },
  {
   "cell_type": "code",
   "execution_count": null,
   "id": "9e8c8556",
   "metadata": {},
   "outputs": [],
   "source": [
    "train_adult, test_adult = train_test_split(df_adult, test_size=0.2)\n",
    "train_juv, test_juv = train_test_split(df_juv, test_size=0.2)"
   ]
  },
  {
   "cell_type": "code",
   "execution_count": null,
   "id": "cee9ce62",
   "metadata": {},
   "outputs": [],
   "source": [
    "train = list(train_adult['Path']) + list(train_juv['Path'])\n",
    "test = list(test_adult['Path']) + list(test_juv['Path'])"
   ]
  },
  {
   "cell_type": "code",
   "execution_count": null,
   "id": "210082de",
   "metadata": {},
   "outputs": [],
   "source": [
    "'''\n",
    "Note:\n",
    "\n",
    "There might be some common entries between train and test, to avoid bias,\n",
    "remove the commons, based on the data distribution, you can decide how many\n",
    "images to keep in train and test, since the splits are random, there's no fixed\n",
    "method for it\n",
    "'''"
   ]
  },
  {
   "cell_type": "code",
   "execution_count": null,
   "id": "565f9e19",
   "metadata": {},
   "outputs": [],
   "source": [
    "# Copy images and make their labels "
   ]
  },
  {
   "cell_type": "code",
   "execution_count": null,
   "id": "2eed7d21",
   "metadata": {},
   "outputs": [],
   "source": [
    "df = pd.read_csv('owl_boxed.csv')"
   ]
  },
  {
   "cell_type": "code",
   "execution_count": null,
   "id": "67a46d59",
   "metadata": {},
   "outputs": [],
   "source": [
    "image_folder = '/mnt/machinelearning/BUOW/train/images/'\n",
    "label_folder = '/mnt/machinelearning/BUOW/train/labels/'"
   ]
  },
  {
   "cell_type": "code",
   "execution_count": null,
   "id": "128376fc",
   "metadata": {},
   "outputs": [],
   "source": [
    "for i in tqdm(train):\n",
    "    file_name = '_'.join(i.split('/'))\n",
    "    shutil.copyfile(i,image_folder+file_name[1:])"
   ]
  },
  {
   "cell_type": "code",
   "execution_count": null,
   "id": "701a3255",
   "metadata": {},
   "outputs": [],
   "source": [
    "for i in tqdm(train):\n",
    "    \n",
    "    d = df[df['Path'] == i]\n",
    "    file_name = '_'.join(i.split('/'))[1:]\n",
    "    file_name = (file_name[:-3]) + \"txt\"\n",
    "    file_name = label_folder + file_name\n",
    "    for index, row in d.iterrows():\n",
    "        with Image.open(row['Path']) as img:\n",
    "            width, height = img.size\n",
    "            x_n = (row['X'] + row['Width'] / 2)/ width\n",
    "            y_n = (row['Y'] + row['Height'] / 2) / height\n",
    "            w_n = row['Width'] / width\n",
    "            h_n = row['Height'] / height\n",
    "            \n",
    "            if row['Label'] == 'Adult Owl':\n",
    "                st = str(0) + \" \" + str(x_n) + \" \" + str(y_n) + \" \" + str(w_n) + \" \" + str(h_n)\n",
    "            else:\n",
    "                st = str(1) + \" \" + str(x_n) + \" \" + str(y_n) + \" \" + str(w_n) + \" \" + str(h_n)\n",
    "            \n",
    "            with open(file_name, 'a') as t:\n",
    "                t.write(st + '\\n')"
   ]
  },
  {
   "cell_type": "code",
   "execution_count": null,
   "id": "9c054bf4",
   "metadata": {},
   "outputs": [],
   "source": [
    "image_folder = '/mnt/machinelearning/BUOW/valid/images/'\n",
    "label_folder = '/mnt/machinelearning/BUOW/valid/labels/'"
   ]
  },
  {
   "cell_type": "code",
   "execution_count": null,
   "id": "e34592d2",
   "metadata": {},
   "outputs": [],
   "source": [
    "for i in tqdm(test):\n",
    "    file_name = '_'.join(i.split('/'))\n",
    "    shutil.copyfile(i,image_folder+file_name[1:])"
   ]
  },
  {
   "cell_type": "code",
   "execution_count": null,
   "id": "f2572d8e",
   "metadata": {},
   "outputs": [],
   "source": [
    "for i in tqdm(test):\n",
    "    \n",
    "    d = df[df['Path'] == i]\n",
    "    file_name = '_'.join(i.split('/'))[1:]\n",
    "    file_name = (file_name[:-3]) + \"txt\"\n",
    "    file_name = label_folder + file_name\n",
    "    for index, row in d.iterrows():\n",
    "        with Image.open(row['Path']) as img:\n",
    "            width, height = img.size\n",
    "            x_n = (row['X'] + row['Width'] / 2)/ width\n",
    "            y_n = (row['Y'] + row['Height'] / 2) / height\n",
    "            w_n = row['Width'] / width\n",
    "            h_n = row['Height'] / height\n",
    "            \n",
    "            if row['Label'] == 'Adult Owl':\n",
    "                st = str(0) + \" \" + str(x_n) + \" \" + str(y_n) + \" \" + str(w_n) + \" \" + str(h_n)\n",
    "            else:\n",
    "                st = str(1) + \" \" + str(x_n) + \" \" + str(y_n) + \" \" + str(w_n) + \" \" + str(h_n)\n",
    "            \n",
    "            with open(file_name, 'a') as t:\n",
    "                t.write(st + '\\n')"
   ]
  },
  {
   "cell_type": "code",
   "execution_count": null,
   "id": "091a8958",
   "metadata": {},
   "outputs": [],
   "source": [
    "##Train"
   ]
  },
  {
   "cell_type": "code",
   "execution_count": null,
   "id": "e165cea0",
   "metadata": {},
   "outputs": [],
   "source": [
    "import wandb\n",
    "from wandb.integration.ultralytics import add_wandb_callback\n",
    "from ultralytics import YOLO"
   ]
  },
  {
   "cell_type": "code",
   "execution_count": null,
   "id": "6ad7b306",
   "metadata": {},
   "outputs": [],
   "source": [
    "model = YOLO(\"yolov8n.pt\")"
   ]
  },
  {
   "cell_type": "code",
   "execution_count": null,
   "id": "679d263e",
   "metadata": {},
   "outputs": [],
   "source": [
    "add_wandb_callback(model, enable_model_checkpointing=True)"
   ]
  },
  {
   "cell_type": "code",
   "execution_count": null,
   "id": "d9a20fdb",
   "metadata": {},
   "outputs": [],
   "source": [
    "model.train(project='BUOW', data='/mnt/machinelearning/owl.yml', epochs=10, imgsz=1280)"
   ]
  },
  {
   "cell_type": "code",
   "execution_count": null,
   "id": "43d0a18c",
   "metadata": {},
   "outputs": [],
   "source": [
    "## Test"
   ]
  },
  {
   "cell_type": "code",
   "execution_count": null,
   "id": "edcf3be7",
   "metadata": {},
   "outputs": [],
   "source": [
    "model = YOLO(\"/home/ctl/animl-py/src/animl/BUOW/train15/weights/best.pt\")"
   ]
  },
  {
   "cell_type": "code",
   "execution_count": null,
   "id": "e7b2b3bc",
   "metadata": {},
   "outputs": [],
   "source": [
    "img_path = 'mnt_newnas_buow_CamTrapOriginals_CamTraps--BUOW_2019_MAP_RanchoJamul_Cage 4_R59_E_20190815-0822_R59b_100RECNX_RCNX0367.JPG'"
   ]
  },
  {
   "cell_type": "code",
   "execution_count": null,
   "id": "23cc1c1f",
   "metadata": {},
   "outputs": [],
   "source": [
    "FILE = \"/mnt/machinelearning/BUOW/valid/images/\" + img_path"
   ]
  },
  {
   "cell_type": "code",
   "execution_count": null,
   "id": "2285726d",
   "metadata": {},
   "outputs": [],
   "source": [
    "results = model.predict(source=FILE, conf=0.25, save=True, hide_labels=True)"
   ]
  }
 ],
 "metadata": {
  "kernelspec": {
   "display_name": "Python 3 (ipykernel)",
   "language": "python",
   "name": "python3"
  },
  "language_info": {
   "codemirror_mode": {
    "name": "ipython",
    "version": 3
   },
   "file_extension": ".py",
   "mimetype": "text/x-python",
   "name": "python",
   "nbconvert_exporter": "python",
   "pygments_lexer": "ipython3",
   "version": "3.7.11"
  }
 },
 "nbformat": 4,
 "nbformat_minor": 5
}
